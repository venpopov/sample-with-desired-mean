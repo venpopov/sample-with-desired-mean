{
 "cells": [
  {
   "cell_type": "markdown",
   "metadata": {},
   "source": [
    "### How to get a sample with a desired mean from an existing random variable?\n",
    "\n",
    "I thought the question on twitter below by @danjlurie was quite interesting, and since I had never run into this problem before, I tried to figure it out. Below is my solution. It works when sampling with replacement from the original set of values. It samples each value with a probability that is derived by dividing the probability density function of the original set under the desired mean by the probability density function under the original mean."
   ]
  },
  {
   "attachments": {},
   "cell_type": "markdown",
   "metadata": {},
   "source": [
    "![@danjlurie: For an analysis, I need to randomly sample from an existing set of values such that the random sample has a specified mean. Does anyone know if there is a standard/efficient way to do this?](img/danjlurie_question.png)"
   ]
  },
  {
   "cell_type": "code",
   "execution_count": 8,
   "metadata": {
    "scrolled": false
   },
   "outputs": [
    {
     "data": {
      "text/html": [
       "79.5903584437301"
      ],
      "text/latex": [
       "79.5903584437301"
      ],
      "text/markdown": [
       "79.5903584437301"
      ],
      "text/plain": [
       "[1] 79.59036"
      ]
     },
     "metadata": {},
     "output_type": "display_data"
    },
    {
     "data": {
      "text/html": [
       "15.3585058375874"
      ],
      "text/latex": [
       "15.3585058375874"
      ],
      "text/markdown": [
       "15.3585058375874"
      ],
      "text/plain": [
       "[1] 15.35851"
      ]
     },
     "metadata": {},
     "output_type": "display_data"
    },
    {
     "data": {
      "image/png": "[encoded data removed]",
      "text/plain": [
       "Plot with title \"Histogram of mysample\""
      ]
     },
     "metadata": {},
     "output_type": "display_data"
    }
   ],
   "source": [
    "set.seed(19843)\n",
    "\n",
    "# generate existing pool from which we want the sample\n",
    "pool = rnorm(10000, mean=100, sd=15)\n",
    "pool = sort(pool)\n",
    "\n",
    "# get probability density distribution under original \n",
    "# sample and under desired mean and sd\n",
    "target_mean = 80; target_sd = 15\n",
    "dens1 = dnorm(pool, mean=mean(pool), sd=sd(pool))\n",
    "dens2 = dnorm(pool, mean=target_mean, sd=target_sd)\n",
    "\n",
    "# get desired sampling probability\n",
    "prob = dens2/dens1\n",
    "prob = prob/sum(prob)\n",
    "\n",
    "# sample from the pool with replacement where each \n",
    "# value is sampled with the corresponding probability\n",
    "mysample = sample(pool, 10000, replace=T, prob=prob)\n",
    "\n",
    "# confirm that sample has desired parameters\n",
    "options(repr.plot.width=3, repr.plot.height=3)\n",
    "hist(mysample)\n",
    "mean(mysample)\n",
    "sd(mysample)"
   ]
  }
 ],
 "metadata": {
  "kernelspec": {
   "display_name": "R",
   "language": "R",
   "name": "ir"
  },
  "language_info": {
   "codemirror_mode": "r",
   "file_extension": ".r",
   "mimetype": "text/x-r-source",
   "name": "R",
   "pygments_lexer": "r",
   "version": "3.4.3"
  }
 },
 "nbformat": 4,
 "nbformat_minor": 2
}
